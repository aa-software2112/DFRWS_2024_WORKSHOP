{
 "cells": [
  {
   "cell_type": "code",
   "execution_count": 2,
   "id": "initial_id",
   "metadata": {
    "ExecuteTime": {
     "end_time": "2024-03-11T00:08:38.187887Z",
     "start_time": "2024-03-11T00:08:38.174741Z"
    },
    "collapsed": true
   },
   "outputs": [],
   "source": [
    "import os\n",
    "from bs4 import BeautifulSoup"
   ]
  },
  {
   "cell_type": "code",
   "execution_count": 11,
   "id": "9508a180",
   "metadata": {},
   "outputs": [],
   "source": [
    "FS_ROOT_DIR = 'C:\\\\Users\\\\dfrwseu2024\\\\Desktop\\\\EX6120_EXTRACTED_FILESYSTEM'\n",
    "OUTPUT_DIR = 'C:\\\\Users\\\\dfrwseu2024\\\\Desktop\\\\frontend_keys.txt'\n",
    "\n",
    "keywords = set()\n",
    "for root, dirs, files in os.walk(FS_ROOT_DIR):\n",
    "    for file in files:\n",
    "        if file.endswith((\".htm\", \".html\")):\n",
    "\n",
    "            html_file = os.path.join(root, file)\n",
    "            with open(html_file, 'r', encoding='utf-8') as file:\n",
    "                soup = BeautifulSoup(file, 'html.parser')\n",
    "\n",
    "            input_tags = soup.find_all('input', {\"name\": True})\n",
    "            for tag in input_tags:\n",
    "                keyword = tag['name']\n",
    "                if keyword:\n",
    "                    keywords.add(keyword)\n",
    "\n",
    "with open(OUTPUT_DIR, 'w') as file:\n",
    "    for key in keywords:\n",
    "        file.write(key + \"\\n\")"
   ]
  },
  {
   "cell_type": "code",
   "execution_count": null,
   "id": "4819cbe2c9789b25",
   "metadata": {
    "ExecuteTime": {
     "end_time": "2024-03-11T00:08:45.927820Z",
     "start_time": "2024-03-11T00:08:39.725129Z"
    },
    "collapsed": false
   },
   "outputs": [],
   "source": []
  },
  {
   "cell_type": "code",
   "execution_count": null,
   "id": "27c63312",
   "metadata": {},
   "outputs": [],
   "source": []
  }
 ],
 "metadata": {
  "kernelspec": {
   "display_name": "Python 3",
   "language": "python",
   "name": "python3"
  },
  "language_info": {
   "codemirror_mode": {
    "name": "ipython",
    "version": 3
   },
   "file_extension": ".py",
   "mimetype": "text/x-python",
   "name": "python",
   "nbconvert_exporter": "python",
   "pygments_lexer": "ipython3",
   "version": "3.8.10"
  }
 },
 "nbformat": 4,
 "nbformat_minor": 5
}
