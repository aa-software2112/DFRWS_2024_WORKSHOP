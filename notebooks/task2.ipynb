{
 "cells": [
  {
   "cell_type": "code",
   "execution_count": 5,
   "id": "66db90354884e29c",
   "metadata": {
    "ExecuteTime": {
     "end_time": "2024-03-10T23:32:09.897903Z",
     "start_time": "2024-03-10T23:32:09.893458Z"
    },
    "collapsed": false
   },
   "outputs": [],
   "source": [
    "import os\n",
    "import lief\n",
    "import sys\n",
    "\n",
    "sys.stderr = open(os.devnull, 'w')"
   ]
  },
  {
   "cell_type": "code",
   "execution_count": 6,
   "id": "a6224a0474552aa8",
   "metadata": {
    "ExecuteTime": {
     "end_time": "2024-03-10T23:32:10.924803Z",
     "start_time": "2024-03-10T23:32:10.919381Z"
    },
    "collapsed": false
   },
   "outputs": [],
   "source": [
    "def gets_binary_strings(binary):\n",
    "    strings = []\n",
    "    # Load the read-only data section\n",
    "    section = binary.get_section(\".rodata\")\n",
    "    if section:\n",
    "        # Convert the section to a sequence of bytes\n",
    "        content_bytes = bytes(section.content)\n",
    "        # Convert the bytes to a string, separated by C-string null-terminator\n",
    "        strings.extend(content_bytes.decode(errors='ignore').split('\\0'))\n",
    "\n",
    "    return strings"
   ]
  },
  {
   "cell_type": "code",
   "execution_count": 9,
   "id": "a4798cd3d7809562",
   "metadata": {
    "ExecuteTime": {
     "end_time": "2024-03-10T23:32:11.274520Z",
     "start_time": "2024-03-10T23:32:11.270021Z"
    },
    "collapsed": false
   },
   "outputs": [],
   "source": [
    "def find_bins_with_keys(fs_root, search_strings):\n",
    "\n",
    "    # Recursively walk the filesystem\n",
    "    for root, _, files in os.walk(fs_root):\n",
    "        # For each file in current directory...\n",
    "        for file_name in files:\n",
    "\n",
    "            file_path = os.path.join(root, file_name)\n",
    "\n",
    "            # Parse the binary\n",
    "            binary = lief.parse(file_path)\n",
    "\n",
    "            # Verify that it is a binary\n",
    "            if binary and isinstance(binary, lief.ELF.Binary):\n",
    "                # Get the strings from the binary\n",
    "                binary_strings = gets_binary_strings(binary)\n",
    "\n",
    "                # Intersect binary strings vs search strings\n",
    "                match_strs = set(binary_strings) & set(search_strings)\n",
    "                \n",
    "                if len(match_strs) == 0:\n",
    "                    continue\n",
    "\n",
    "                print(f\"Key(s) {match_strs} found in:\\n\\t{file_path}\")"
   ]
  },
  {
   "cell_type": "code",
   "execution_count": null,
   "id": "33f1e66bbd025513",
   "metadata": {
    "collapsed": false
   },
   "outputs": [],
   "source": [
    "FS_ROOT_DIR = r'C:\\\\Users\\\\dfrwseu2024\\\\Desktop\\\\EX6120_EXTRACTED_FILESYSTEM'\n",
    "find_bins_with_keys(FS_ROOT_DIR, [\"ap_mode_cur\", \"ap_support_mode\"])"
   ]
  },
  {
   "cell_type": "code",
   "execution_count": null,
   "id": "30ae8b81",
   "metadata": {},
   "outputs": [],
   "source": []
  },
  {
   "cell_type": "code",
   "execution_count": null,
   "id": "4a107ededf15aa5",
   "metadata": {
    "collapsed": false
   },
   "outputs": [],
   "source": []
  }
 ],
 "metadata": {
  "kernelspec": {
   "display_name": "Python 3",
   "language": "python",
   "name": "python3"
  },
  "language_info": {
   "codemirror_mode": {
    "name": "ipython",
    "version": 3
   },
   "file_extension": ".py",
   "mimetype": "text/x-python",
   "name": "python",
   "nbconvert_exporter": "python",
   "pygments_lexer": "ipython3",
   "version": "3.8.10"
  }
 },
 "nbformat": 4,
 "nbformat_minor": 5
}
